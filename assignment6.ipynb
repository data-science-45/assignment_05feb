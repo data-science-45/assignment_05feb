{
 "cells": [
  {
   "cell_type": "markdown",
   "metadata": {},
   "source": [
    "Q1"
   ]
  },
  {
   "cell_type": "markdown",
   "metadata": {},
   "source": [
    "In Object-Oriented Programming (OOP), a class is a blueprint that defines the properties and behavior of a group of similar objects. A class is like a template or a blueprint that defines the common features and functions of all objects that belong to that class. An object is an instance of a class that has a specific state and behavior. An object is any entity that has a state and behavior. For example, a Laptop is a class that defines the common features and functions of all laptops, while a laptop of company XYZ is an object of the Laptop class."
   ]
  },
  {
   "cell_type": "code",
   "execution_count": 1,
   "metadata": {},
   "outputs": [
    {
     "name": "stdout",
     "output_type": "stream",
     "text": [
      "Laptop is turning on...\n",
      "Laptop is turning off...\n"
     ]
    }
   ],
   "source": [
    "# Define a class named \"Laptop\"\n",
    "class Laptop:\n",
    "    # Fields or variables\n",
    "    brand = \"\"\n",
    "    ram = 0\n",
    "    storage = 0\n",
    "\n",
    "    # Methods or functions\n",
    "    def turn_on(self):\n",
    "        print(\"Laptop is turning on...\")\n",
    "\n",
    "    def turn_off(self):\n",
    "        print(\"Laptop is turning off...\")\n",
    "\n",
    "# Create an object of the class \"Laptop\"\n",
    "my_laptop = Laptop()\n",
    "\n",
    "# Set the fields of the object\n",
    "my_laptop.brand = \"Dell\"\n",
    "my_laptop.ram = 8\n",
    "my_laptop.storage = 256\n",
    "\n",
    "# Call the methods of the object\n",
    "my_laptop.turn_on()\n",
    "my_laptop.turn_off()\n"
   ]
  },
  {
   "cell_type": "markdown",
   "metadata": {},
   "source": [
    "Q2"
   ]
  },
  {
   "cell_type": "markdown",
   "metadata": {},
   "source": [
    "1.Polymorphism\n",
    "2.Inheritance\n",
    "3.Encapsulation\n",
    "4.Abstraction"
   ]
  },
  {
   "cell_type": "markdown",
   "metadata": {},
   "source": [
    "Q3"
   ]
  },
  {
   "cell_type": "markdown",
   "metadata": {},
   "source": [
    "In Python, the __init__() function is a special method known as the constructor. It is automatically called when a new instance (object) of a class is created. The __init__() method lets the class initialize the object’s attributes and serves no other purpose. It is only used within classes."
   ]
  },
  {
   "cell_type": "code",
   "execution_count": 3,
   "metadata": {},
   "outputs": [
    {
     "name": "stdout",
     "output_type": "stream",
     "text": [
      "Laptop is turning on...\n",
      "Laptop is turning off...\n"
     ]
    }
   ],
   "source": [
    "# Define a class named \"Laptop\"\n",
    "class Laptop:\n",
    "    # Fields or variables\n",
    "    def __init__(self, brand, ram, storage):\n",
    "        self.brand = brand\n",
    "        self.ram = ram\n",
    "        self.storage = storage\n",
    "\n",
    "    # Methods or functions\n",
    "    def turn_on(self):\n",
    "        print(\"Laptop is turning on...\")\n",
    "\n",
    "    def turn_off(self):\n",
    "        print(\"Laptop is turning off...\")\n",
    "\n",
    "# Create an object of the class \"Laptop\"\n",
    "my_laptop = Laptop(\"Dell\", 8, 256)\n",
    "\n",
    "# Call the methods of the object\n",
    "my_laptop.turn_on()\n",
    "my_laptop.turn_off()\n"
   ]
  },
  {
   "cell_type": "markdown",
   "metadata": {},
   "source": [
    "Q4"
   ]
  },
  {
   "cell_type": "markdown",
   "metadata": {},
   "source": [
    "In Object-Oriented Programming (OOP), self is a reference to the instance of the class that is currently being used. It is customary to use self as the first parameter in instance methods of a class. Whenever you call a method of an object created from a class, the object is automatically passed as the first argument using the self parameter. This enables you to modify the object’s properties and execute tasks unique to that particular instance."
   ]
  },
  {
   "cell_type": "markdown",
   "metadata": {},
   "source": [
    "Q5"
   ]
  },
  {
   "cell_type": "markdown",
   "metadata": {},
   "source": [
    "In Object-Oriented Programming (OOP), inheritance is a mechanism that allows a new class to be based on an existing class. The new class, known as the subclass or derived class, inherits the properties and methods of the existing class, known as the superclass or base class. This enables the subclass to reuse the code of the superclass and add new features to it.\n",
    "\n",
    "There are several types of inheritance in OOP, including:\n",
    "\n",
    "Single Inheritance: In single inheritance, a subclass is derived from only one superclass. For example, a Car class can be derived from a Vehicle class.\n",
    "\n",
    "Multiple Inheritance: In multiple inheritance, a subclass is derived from two or more superclasses. For example, a FlyingCar class can be derived from both a Car class and a Plane class.\n",
    "\n",
    "Multilevel Inheritance: In multilevel inheritance, a subclass is derived from a superclass, which is also derived from another superclass. For example, a SportsCar class can be derived from a Car class, which is derived from a Vehicle class.\n",
    "\n",
    "Hierarchical Inheritance: In hierarchical inheritance, multiple subclasses are derived from a single superclass. For example, a Sedan class, Coupe class, and Hatchback class can all be derived from a Car class.\n",
    "\n",
    "Hybrid Inheritance: Hybrid inheritance is a combination of two or more types of inheritance. For example, a SportsSUV class can be derived from a SportsCar class and an SUV class."
   ]
  },
  {
   "cell_type": "code",
   "execution_count": 4,
   "metadata": {},
   "outputs": [],
   "source": [
    "# Single Inheritance\n",
    "class Vehicle:\n",
    "    def __init__(self, make, model, year):\n",
    "        self.make = make\n",
    "        self.model = model\n",
    "        self.year = year\n",
    "\n",
    "class Car(Vehicle):\n",
    "    def __init__(self, make, model, year, doors):\n",
    "        super().__init__(make, model, year)\n",
    "        self.doors = doors\n",
    "\n",
    "# Multiple Inheritance\n",
    "class Plane:\n",
    "    def fly(self):\n",
    "        print(\"The plane is flying...\")\n",
    "\n",
    "class FlyingCar(Car, Plane):\n",
    "    pass\n",
    "\n",
    "# Multilevel Inheritance\n",
    "class SportsCar(Car):\n",
    "    def drive_fast(self):\n",
    "        print(\"Driving fast...\")\n",
    "\n",
    "# Hierarchical Inheritance\n",
    "class Sedan(Car):\n",
    "    pass\n",
    "\n",
    "class Coupe(Car):\n",
    "    pass\n",
    "\n",
    "class Hatchback(Car):\n",
    "    pass\n",
    "\n",
    "# Hybrid Inheritance\n",
    "class SUV(Vehicle):\n",
    "    def drive_offroad(self):\n",
    "        print(\"Driving off-road...\")\n",
    "\n",
    "class SportsSUV(SportsCar, SUV):\n",
    "    pass\n"
   ]
  }
 ],
 "metadata": {
  "kernelspec": {
   "display_name": "Python 3",
   "language": "python",
   "name": "python3"
  },
  "language_info": {
   "codemirror_mode": {
    "name": "ipython",
    "version": 3
   },
   "file_extension": ".py",
   "mimetype": "text/x-python",
   "name": "python",
   "nbconvert_exporter": "python",
   "pygments_lexer": "ipython3",
   "version": "3.8.0"
  }
 },
 "nbformat": 4,
 "nbformat_minor": 2
}
